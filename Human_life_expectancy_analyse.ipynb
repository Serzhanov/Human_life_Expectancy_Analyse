{
 "cells": [
  {
   "cell_type": "code",
   "execution_count": 1,
   "id": "d370faa8",
   "metadata": {
    "_cell_guid": "b1076dfc-b9ad-4769-8c92-a6c4dae69d19",
    "_uuid": "8f2839f25d086af736a60e9eeb907d3b93b6e0e5",
    "execution": {
     "iopub.execute_input": "2022-01-22T12:34:34.927474Z",
     "iopub.status.busy": "2022-01-22T12:34:34.926791Z",
     "iopub.status.idle": "2022-01-22T12:34:34.939904Z",
     "shell.execute_reply": "2022-01-22T12:34:34.940431Z",
     "shell.execute_reply.started": "2022-01-22T10:33:31.776461Z"
    },
    "papermill": {
     "duration": 0.035124,
     "end_time": "2022-01-22T12:34:34.940772",
     "exception": false,
     "start_time": "2022-01-22T12:34:34.905648",
     "status": "completed"
    },
    "tags": []
   },
   "outputs": [
    {
     "name": "stdout",
     "output_type": "stream",
     "text": [
      "/kaggle/input/human-life-expectancy-around-the-world/Human_life_Expectancy.csv\n"
     ]
    }
   ],
   "source": [
    "# This Python 3 environment comes with many helpful analytics libraries installed\n",
    "# It is defined by the kaggle/python Docker image: https://github.com/kaggle/docker-python\n",
    "# For example, here's several helpful packages to load\n",
    "\n",
    "import numpy as np # linear algebra\n",
    "import pandas as pd # data processing, CSV file I/O (e.g. pd.read_csv)\n",
    "\n",
    "# Input data files are available in the read-only \"../input/\" directory\n",
    "# For example, running this (by clicking run or pressing Shift+Enter) will list all files under the input directory\n",
    "\n",
    "import os\n",
    "for dirname, _, filenames in os.walk('/kaggle/input'):\n",
    "    for filename in filenames:\n",
    "        print(os.path.join(dirname, filename))\n",
    "\n",
    "# You can write up to 20GB to the current directory (/kaggle/working/) that gets preserved as output when you create a version using \"Save & Run All\" \n",
    "# You can also write temporary files to /kaggle/temp/, but they won't be saved outside of the current session"
   ]
  },
  {
   "cell_type": "code",
   "execution_count": 2,
   "id": "29bd385a",
   "metadata": {
    "execution": {
     "iopub.execute_input": "2022-01-22T12:34:34.967800Z",
     "iopub.status.busy": "2022-01-22T12:34:34.966968Z",
     "iopub.status.idle": "2022-01-22T12:34:36.053996Z",
     "shell.execute_reply": "2022-01-22T12:34:36.054539Z",
     "shell.execute_reply.started": "2022-01-22T10:33:31.793364Z"
    },
    "papermill": {
     "duration": 1.103051,
     "end_time": "2022-01-22T12:34:36.054735",
     "exception": false,
     "start_time": "2022-01-22T12:34:34.951684",
     "status": "completed"
    },
    "tags": []
   },
   "outputs": [],
   "source": [
    "import matplotlib.pyplot as plt\n",
    "import seaborn as sns"
   ]
  },
  {
   "cell_type": "code",
   "execution_count": 3,
   "id": "ba85b45e",
   "metadata": {
    "execution": {
     "iopub.execute_input": "2022-01-22T12:34:36.082226Z",
     "iopub.status.busy": "2022-01-22T12:34:36.078890Z",
     "iopub.status.idle": "2022-01-22T12:34:36.142014Z",
     "shell.execute_reply": "2022-01-22T12:34:36.142589Z",
     "shell.execute_reply.started": "2022-01-22T10:33:32.883212Z"
    },
    "papermill": {
     "duration": 0.077852,
     "end_time": "2022-01-22T12:34:36.142775",
     "exception": false,
     "start_time": "2022-01-22T12:34:36.064923",
     "status": "completed"
    },
    "tags": []
   },
   "outputs": [
    {
     "name": "stdout",
     "output_type": "stream",
     "text": [
      "Index(['Country', 'Country_Code', 'Level', 'Region', '1990', '1991', '1992',\n",
      "       '1993', '1994', '1995', '1996', '1997', '1998', '1999', '2000', '2001',\n",
      "       '2002', '2003', '2004', '2005', '2006', '2007', '2008', '2009', '2010',\n",
      "       '2011', '2012', '2013', '2014', '2015', '2016', '2017', '2018', '2019'],\n",
      "      dtype='object')\n"
     ]
    },
    {
     "data": {
      "text/plain": [
       "False"
      ]
     },
     "execution_count": 3,
     "metadata": {},
     "output_type": "execute_result"
    }
   ],
   "source": [
    "#Reading the file\n",
    "my_data=pd.read_csv(\"../input/human-life-expectancy-around-the-world/Human_life_Expectancy.csv\")\n",
    "\n",
    "#Getting all columns\n",
    "print(my_data.columns)\n",
    "\n",
    "#First 5 lines data\n",
    "my_data.head()\n",
    "\n",
    "#Cheking is there a null values\n",
    "my_data.isnull().values.any()\n"
   ]
  },
  {
   "cell_type": "code",
   "execution_count": 4,
   "id": "5816c5cb",
   "metadata": {
    "execution": {
     "iopub.execute_input": "2022-01-22T12:34:36.167554Z",
     "iopub.status.busy": "2022-01-22T12:34:36.166893Z",
     "iopub.status.idle": "2022-01-22T12:34:36.189295Z",
     "shell.execute_reply": "2022-01-22T12:34:36.188715Z",
     "shell.execute_reply.started": "2022-01-22T10:33:32.947514Z"
    },
    "papermill": {
     "duration": 0.036023,
     "end_time": "2022-01-22T12:34:36.189485",
     "exception": false,
     "start_time": "2022-01-22T12:34:36.153462",
     "status": "completed"
    },
    "tags": []
   },
   "outputs": [
    {
     "data": {
      "text/plain": [
       "Country         United States\n",
       "Country_Code              USA\n",
       "Level             subnational\n",
       "Region                Wyoming\n",
       "1990                    78.46\n",
       "1991                    78.61\n",
       "1992                    78.75\n",
       "1993                    78.78\n",
       "1994                    78.93\n",
       "1995                    79.07\n",
       "1996                    79.13\n",
       "1997                     79.3\n",
       "1998                    79.37\n",
       "1999                    79.54\n",
       "2000                    79.61\n",
       "2001                    79.78\n",
       "2002                    79.85\n",
       "2003                    80.02\n",
       "2004                    80.19\n",
       "2005                    80.36\n",
       "2006                    80.47\n",
       "2007                    80.58\n",
       "2008                    80.69\n",
       "2009                     80.8\n",
       "2010                    80.91\n",
       "2011                    81.06\n",
       "2012                    81.21\n",
       "2013                    81.25\n",
       "2014                     81.3\n",
       "2015                     81.3\n",
       "2016                     81.3\n",
       "2017                     81.3\n",
       "2018                     81.3\n",
       "2019                     81.3\n",
       "dtype: object"
      ]
     },
     "execution_count": 4,
     "metadata": {},
     "output_type": "execute_result"
    }
   ],
   "source": [
    "#Getting all max values in data from special country\n",
    "#Here we got max age that was registred in USA\n",
    "data_usa=my_data.loc[(my_data.Country=='United States')]\n",
    "data_usa_max=data_usa.max()\n",
    "data_usa_max"
   ]
  },
  {
   "cell_type": "code",
   "execution_count": 5,
   "id": "ca3fd20a",
   "metadata": {
    "execution": {
     "iopub.execute_input": "2022-01-22T12:34:36.218892Z",
     "iopub.status.busy": "2022-01-22T12:34:36.218120Z",
     "iopub.status.idle": "2022-01-22T12:34:36.227497Z",
     "shell.execute_reply": "2022-01-22T12:34:36.228034Z",
     "shell.execute_reply.started": "2022-01-22T10:33:37.857092Z"
    },
    "papermill": {
     "duration": 0.027207,
     "end_time": "2022-01-22T12:34:36.228235",
     "exception": false,
     "start_time": "2022-01-22T12:34:36.201028",
     "status": "completed"
    },
    "tags": []
   },
   "outputs": [
    {
     "data": {
      "text/plain": [
       "Country\n",
       "United States            52\n",
       "Nigeria                  38\n",
       "India                    37\n",
       "Colombia                 34\n",
       "Mexico                   33\n",
       "                         ..\n",
       "Samoa                     1\n",
       "Cyprus                    1\n",
       "Brunei Darussalam         1\n",
       "Singapore                 1\n",
       "Saint Kitts and Nevis     1\n",
       "Name: Country, Length: 186, dtype: int64"
      ]
     },
     "execution_count": 5,
     "metadata": {},
     "output_type": "execute_result"
    }
   ],
   "source": [
    "#Got the exact number of people of each country \n",
    "people_in_countries=my_data.groupby('Country').Country.count().sort_values(ascending=False)\n",
    "people_in_countries\n"
   ]
  },
  {
   "cell_type": "code",
   "execution_count": 6,
   "id": "950d5e69",
   "metadata": {
    "execution": {
     "iopub.execute_input": "2022-01-22T12:34:36.254398Z",
     "iopub.status.busy": "2022-01-22T12:34:36.253700Z",
     "iopub.status.idle": "2022-01-22T12:34:36.381504Z",
     "shell.execute_reply": "2022-01-22T12:34:36.382030Z",
     "shell.execute_reply.started": "2022-01-22T10:33:43.411418Z"
    },
    "papermill": {
     "duration": 0.142605,
     "end_time": "2022-01-22T12:34:36.382259",
     "exception": false,
     "start_time": "2022-01-22T12:34:36.239654",
     "status": "completed"
    },
    "tags": []
   },
   "outputs": [],
   "source": [
    "#Reorganazing the data\n",
    "organized_data=pd.melt(my_data,id_vars=['Country','Country_Code','Level','Region'],\n",
    "                   value_vars=['1990','1991','1992','1993','1994','1995','1996','1997','1998','1999','2000','2001','2002','2003','2004','2005','2006','2007','2008','2009','2010','2011','2012','2013','2014','2015','2016','2017','2018','2019'],\n",
    "                   var_name=['Year'],value_name='Expectation')\n",
    "\n",
    "organized_data.shape\n",
    "organized_data.head()\n",
    "#Droping \"Not Available data\"\n",
    "organized_data = organized_data.drop(organized_data[organized_data.Expectation == 'Not Available'].index)\n",
    "#Transformation to numeric values\n",
    "organized_data[[\"Year\",\"Expectation\"]] = organized_data[[\"Year\",\"Expectation\"]].apply(pd.to_numeric)"
   ]
  },
  {
   "cell_type": "code",
   "execution_count": 7,
   "id": "a90d668b",
   "metadata": {
    "execution": {
     "iopub.execute_input": "2022-01-22T12:34:36.409482Z",
     "iopub.status.busy": "2022-01-22T12:34:36.408695Z",
     "iopub.status.idle": "2022-01-22T12:34:36.735865Z",
     "shell.execute_reply": "2022-01-22T12:34:36.735319Z",
     "shell.execute_reply.started": "2022-01-22T10:38:57.968630Z"
    },
    "papermill": {
     "duration": 0.342133,
     "end_time": "2022-01-22T12:34:36.736014",
     "exception": false,
     "start_time": "2022-01-22T12:34:36.393881",
     "status": "completed"
    },
    "tags": []
   },
   "outputs": [
    {
     "data": {
      "text/plain": [
       "'\\nHere we see that Hawai got the most huge expectancy of huma life,perhaps the beach and taste cocktails influence on  human life :D\\n\\n'"
      ]
     },
     "execution_count": 7,
     "metadata": {},
     "output_type": "execute_result"
    },
    {
     "data": {
      "image/png": "[encoded data removed]",
      "text/plain": [
       "<Figure size 1080x360 with 1 Axes>"
      ]
     },
     "metadata": {
      "needs_background": "light"
     },
     "output_type": "display_data"
    }
   ],
   "source": [
    "usa_data = organized_data.query(\"Country_Code == 'USA'\")\n",
    "usa_data.head\n",
    "\n",
    "\n",
    "# Scatter Plot \n",
    "usa_data.describe()\n",
    "#Getting the relationship between the Region and lifespan expectation in USA which is higher than 80\n",
    "usa_data_expect_more80=usa_data[usa_data['Expectation']>80]\n",
    "usa_data_expect_more80.head\n",
    "\n",
    "plt.figure(figsize=(15,5))\n",
    "sns.scatterplot(x=usa_data_expect_more80['Region'], y=usa_data_expect_more80['Expectation'])\n",
    "\n",
    "'''\n",
    "Here we see that Hawai got the most huge expectancy of huma life,perhaps the beach and taste cocktails influence on  human life :D\n",
    "\n",
    "'''"
   ]
  },
  {
   "cell_type": "code",
   "execution_count": 8,
   "id": "e07bde66",
   "metadata": {
    "execution": {
     "iopub.execute_input": "2022-01-22T12:34:36.768724Z",
     "iopub.status.busy": "2022-01-22T12:34:36.767658Z",
     "iopub.status.idle": "2022-01-22T12:34:36.782932Z",
     "shell.execute_reply": "2022-01-22T12:34:36.783505Z",
     "shell.execute_reply.started": "2022-01-22T10:39:10.713912Z"
    },
    "papermill": {
     "duration": 0.034886,
     "end_time": "2022-01-22T12:34:36.783692",
     "exception": false,
     "start_time": "2022-01-22T12:34:36.748806",
     "status": "completed"
    },
    "tags": []
   },
   "outputs": [
    {
     "data": {
      "text/html": [
       "<div>\n",
       "<style scoped>\n",
       "    .dataframe tbody tr th:only-of-type {\n",
       "        vertical-align: middle;\n",
       "    }\n",
       "\n",
       "    .dataframe tbody tr th {\n",
       "        vertical-align: top;\n",
       "    }\n",
       "\n",
       "    .dataframe thead th {\n",
       "        text-align: right;\n",
       "    }\n",
       "</style>\n",
       "<table border=\"1\" class=\"dataframe\">\n",
       "  <thead>\n",
       "    <tr style=\"text-align: right;\">\n",
       "      <th></th>\n",
       "      <th>Country</th>\n",
       "      <th>Country_Code</th>\n",
       "      <th>Level</th>\n",
       "      <th>Region</th>\n",
       "      <th>Year</th>\n",
       "      <th>Expectation</th>\n",
       "    </tr>\n",
       "  </thead>\n",
       "  <tbody>\n",
       "    <tr>\n",
       "      <th>1505</th>\n",
       "      <td>Rwanda</td>\n",
       "      <td>RWA</td>\n",
       "      <td>National</td>\n",
       "      <td>Total</td>\n",
       "      <td>1990</td>\n",
       "      <td>33.40</td>\n",
       "    </tr>\n",
       "    <tr>\n",
       "      <th>1506</th>\n",
       "      <td>Rwanda</td>\n",
       "      <td>RWA</td>\n",
       "      <td>subnational</td>\n",
       "      <td>City of Kigali</td>\n",
       "      <td>1990</td>\n",
       "      <td>35.12</td>\n",
       "    </tr>\n",
       "    <tr>\n",
       "      <th>1507</th>\n",
       "      <td>Rwanda</td>\n",
       "      <td>RWA</td>\n",
       "      <td>subnational</td>\n",
       "      <td>East</td>\n",
       "      <td>1990</td>\n",
       "      <td>30.82</td>\n",
       "    </tr>\n",
       "    <tr>\n",
       "      <th>1508</th>\n",
       "      <td>Rwanda</td>\n",
       "      <td>RWA</td>\n",
       "      <td>subnational</td>\n",
       "      <td>North</td>\n",
       "      <td>1990</td>\n",
       "      <td>32.37</td>\n",
       "    </tr>\n",
       "    <tr>\n",
       "      <th>1509</th>\n",
       "      <td>Rwanda</td>\n",
       "      <td>RWA</td>\n",
       "      <td>subnational</td>\n",
       "      <td>South</td>\n",
       "      <td>1990</td>\n",
       "      <td>33.44</td>\n",
       "    </tr>\n",
       "  </tbody>\n",
       "</table>\n",
       "</div>"
      ],
      "text/plain": [
       "     Country Country_Code        Level          Region  Year  Expectation\n",
       "1505  Rwanda          RWA     National           Total  1990        33.40\n",
       "1506  Rwanda          RWA  subnational  City of Kigali  1990        35.12\n",
       "1507  Rwanda          RWA  subnational            East  1990        30.82\n",
       "1508  Rwanda          RWA  subnational           North  1990        32.37\n",
       "1509  Rwanda          RWA  subnational           South  1990        33.44"
      ]
     },
     "execution_count": 8,
     "metadata": {},
     "output_type": "execute_result"
    }
   ],
   "source": [
    "#Getting the countries with lower life expectation which is less than 40\n",
    "lower_life_expect=organized_data.loc[(organized_data.Expectation>0) & (organized_data.Expectation<40)]\n",
    "lower_life_expect.shape\n",
    "lower_life_expect.head()"
   ]
  },
  {
   "cell_type": "code",
   "execution_count": 9,
   "id": "2a068c4d",
   "metadata": {
    "execution": {
     "iopub.execute_input": "2022-01-22T12:34:36.813888Z",
     "iopub.status.busy": "2022-01-22T12:34:36.813172Z",
     "iopub.status.idle": "2022-01-22T12:34:37.395518Z",
     "shell.execute_reply": "2022-01-22T12:34:37.394695Z",
     "shell.execute_reply.started": "2022-01-22T10:39:13.344987Z"
    },
    "papermill": {
     "duration": 0.59885,
     "end_time": "2022-01-22T12:34:37.395692",
     "exception": false,
     "start_time": "2022-01-22T12:34:36.796842",
     "status": "completed"
    },
    "tags": []
   },
   "outputs": [
    {
     "data": {
      "text/plain": [
       "'\\nHere, we that the most less expectancy of life is in Rwanda country specially between 1991 and 1995\\n\\nAccording to Wikipedia (https://en.wikipedia.org/wiki/Rwandan_genocide):\\nThe Rwandan genocide occurred between 7 April and 15 July 1994 during the Rwandan Civil War.\\nDuring this period of around 100 days, members of the Tutsi minority ethnic group, as well as some moderate Hutu and Twa, were slaughtered by armed militias. \\nThe most widely accepted scholarly estimates are around 500,000 to 800,000 Tutsi deaths.\\nEstimates for the total death toll (including Hutu and Twa victims) are as high as 1,100,000.\\n\\n'"
      ]
     },
     "execution_count": 9,
     "metadata": {},
     "output_type": "execute_result"
    },
    {
     "data": {
      "image/png": "[encoded data removed]",
      "text/plain": [
       "<Figure size 458.625x360 with 1 Axes>"
      ]
     },
     "metadata": {
      "needs_background": "light"
     },
     "output_type": "display_data"
    }
   ],
   "source": [
    "#Plotting this relationship\n",
    "sns.lmplot(x='Year', y='Expectation', data=lower_life_expect, hue='Country', fit_reg=False)\n",
    "'''\n",
    "Here, we that the most less expectancy of life is in Rwanda country specially between 1991 and 1995\n",
    "\n",
    "According to Wikipedia (https://en.wikipedia.org/wiki/Rwandan_genocide):\n",
    "The Rwandan genocide occurred between 7 April and 15 July 1994 during the Rwandan Civil War.\n",
    "During this period of around 100 days, members of the Tutsi minority ethnic group, as well as some moderate Hutu and Twa, were slaughtered by armed militias. \n",
    "The most widely accepted scholarly estimates are around 500,000 to 800,000 Tutsi deaths.\n",
    "Estimates for the total death toll (including Hutu and Twa victims) are as high as 1,100,000.\n",
    "\n",
    "'''"
   ]
  },
  {
   "cell_type": "code",
   "execution_count": 10,
   "id": "44811f40",
   "metadata": {
    "execution": {
     "iopub.execute_input": "2022-01-22T12:34:37.428448Z",
     "iopub.status.busy": "2022-01-22T12:34:37.427742Z",
     "iopub.status.idle": "2022-01-22T12:34:37.899486Z",
     "shell.execute_reply": "2022-01-22T12:34:37.898798Z",
     "shell.execute_reply.started": "2022-01-22T12:28:02.866535Z"
    },
    "papermill": {
     "duration": 0.489233,
     "end_time": "2022-01-22T12:34:37.899642",
     "exception": false,
     "start_time": "2022-01-22T12:34:37.410409",
     "status": "completed"
    },
    "tags": []
   },
   "outputs": [
    {
     "name": "stdout",
     "output_type": "stream",
     "text": [
      "               Year  Expectation\n",
      "Country                         \n",
      "Japan        2004.5    81.933333\n",
      "Switzerland  2004.5    80.853333\n",
      "Iceland      2004.5    80.693333\n",
      "Andorra      2009.5    80.665000\n",
      "Australia    2004.5    80.540000\n",
      "(186, 2)\n"
     ]
    },
    {
     "data": {
      "text/plain": [
       "'\\nAs we can see during the time the countries increase their life Expectancy.\\n\\n'"
      ]
     },
     "execution_count": 10,
     "metadata": {},
     "output_type": "execute_result"
    },
    {
     "data": {
      "image/png": "[encoded data removed]",
      "text/plain": [
       "<Figure size 432x288 with 1 Axes>"
      ]
     },
     "metadata": {},
     "output_type": "display_data"
    }
   ],
   "source": [
    "\n",
    "#Extraction the information  with national level\n",
    "national_organized_data=organized_data[organized_data['Level']=='National']\n",
    "national_organized_data.head()\n",
    "#Getting the top 5 countries with huge mean Expectancy\n",
    "sorted_national_organized_data=national_organized_data.groupby('Country').mean().sort_values('Expectation',ascending=False)\n",
    "top5=sorted_national_organized_data.head()\n",
    "print(top5)\n",
    "\n",
    "'''\n",
    "The top 5 countries with huge Expectancy of life are: Japan,Switzerland,Iceland,Andorra,Australia\n",
    "Does anybody know where is Andora?\n",
    "https://upload.wikimedia.org/wikipedia/commons/1/12/Location_Andorra_Europe.png\n",
    "\n",
    "\n",
    "'''\n",
    "#Getting the name of countries of sorted_national_organized_data.describe() (*min,25%,mean,75%,max*) values\n",
    "#just to see the average increase of life expectancy\n",
    "print(sorted_national_organized_data.shape)\n",
    "\n",
    "first=sorted_national_organized_data.iloc[0]#max\n",
    "last=sorted_national_organized_data.iloc[-1]#min\n",
    "percent_25=sorted_national_organized_data.iloc[61]#186/3-1\n",
    "percnet_75=sorted_national_organized_data.iloc[123]#186-186/3-1\n",
    "avg=sorted_national_organized_data.iloc[92]#median\n",
    "\n",
    "\n",
    "\n",
    "sns.set(style=\"darkgrid\")\n",
    "data_of_describes=organized_data.loc[((organized_data.Country=='Japan')|(organized_data.Country=='Malaysia')|(organized_data.Country=='Libya')|(organized_data.Country=='Timor Leste')|(organized_data.Country=='Sierra Leone'))&(organized_data.Level=='National')]\n",
    "sns.lineplot(x='Year',y='Expectation',hue='Country',data=data_of_describes)\n",
    "plt.legend(bbox_to_anchor=(1.05, 1), loc=2, borderaxespad=0.)\n",
    "'''\n",
    "As we can see during the time the countries increase their life Expectancy.\n",
    "\n",
    "'''"
   ]
  }
 ],
 "metadata": {
  "kernelspec": {
   "display_name": "Python 3",
   "language": "python",
   "name": "python3"
  },
  "language_info": {
   "codemirror_mode": {
    "name": "ipython",
    "version": 3
   },
   "file_extension": ".py",
   "mimetype": "text/x-python",
   "name": "python",
   "nbconvert_exporter": "python",
   "pygments_lexer": "ipython3",
   "version": "3.7.12"
  },
  "papermill": {
   "default_parameters": {},
   "duration": 14.387997,
   "end_time": "2022-01-22T12:34:38.628470",
   "environment_variables": {},
   "exception": null,
   "input_path": "__notebook__.ipynb",
   "output_path": "__notebook__.ipynb",
   "parameters": {},
   "start_time": "2022-01-22T12:34:24.240473",
   "version": "2.3.3"
  }
 },
 "nbformat": 4,
 "nbformat_minor": 5
}
